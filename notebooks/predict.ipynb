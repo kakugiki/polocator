{
 "cells": [
  {
   "cell_type": "code",
   "execution_count": 1,
   "metadata": {},
   "outputs": [],
   "source": [
    "import sys, os\n",
    "\n",
    "sys.path.append(os.path.abspath('../scripts/train'))\n",
    "\n",
    "from predict import ImagePredictor\n",
    "\n",
    "# Create predictor instance\n",
    "predictor = ImagePredictor(\n",
    "    model_path=\"../models/trained_model.keras\",\n",
    "    target_size=(224, 224)\n",
    ")"
   ]
  },
  {
   "cell_type": "code",
   "execution_count": null,
   "metadata": {},
   "outputs": [],
   "source": [
    "results_df = predictor.process_folder(\n",
    "    folder_path=\"../data/processed/test/positive\",\n",
    "    output_csv=\"../models/prediction_results.csv\",\n",
    ")"
   ]
  },
  {
   "cell_type": "code",
   "execution_count": null,
   "metadata": {},
   "outputs": [],
   "source": [
    "# Single image prediction\n",
    "image_path = \"../data/processed/test/control/C_023.jpg\"\n",
    "predicted_class, probabilities = predictor.predict_single(image_path)\n",
    "print(f\"Predicted class: {predicted_class}\")\n",
    "print(f\"Class probabilities: {probabilities}\")"
   ]
  }
 ],
 "metadata": {
  "kernelspec": {
   "display_name": ".poop",
   "language": "python",
   "name": "python3"
  },
  "language_info": {
   "codemirror_mode": {
    "name": "ipython",
    "version": 3
   },
   "file_extension": ".py",
   "mimetype": "text/x-python",
   "name": "python",
   "nbconvert_exporter": "python",
   "pygments_lexer": "ipython3",
   "version": "3.12.1"
  }
 },
 "nbformat": 4,
 "nbformat_minor": 2
}
