{
 "cells": [
  {
   "cell_type": "code",
   "execution_count": null,
   "metadata": {},
   "outputs": [],
   "source": [
    "import sys, os\n",
    "\n",
    "sys.path.append(os.path.abspath('../scripts/train'))\n",
    "\n",
    "from predict_single import ImagePredictor\n",
    "\n",
    "# Create predictor instance\n",
    "predictor = ImagePredictor(\n",
    "    model_path=\"../models/trained_model.keras\",\n",
    "    target_size=(224, 224)\n",
    ")\n",
    "\n",
    "# Single image prediction\n",
    "image_path = \"../data/processed/test/positive/DP_580.jpg\"\n",
    "predicted_class, probabilities = predictor.predict(image_path)\n",
    "print(f\"Predicted class: {predicted_class}\")\n",
    "print(f\"Class probabilities: {probabilities}\")\n"
   ]
  }
 ],
 "metadata": {
  "kernelspec": {
   "display_name": ".poop",
   "language": "python",
   "name": "python3"
  },
  "language_info": {
   "codemirror_mode": {
    "name": "ipython",
    "version": 3
   },
   "file_extension": ".py",
   "mimetype": "text/x-python",
   "name": "python",
   "nbconvert_exporter": "python",
   "pygments_lexer": "ipython3",
   "version": "3.12.1"
  }
 },
 "nbformat": 4,
 "nbformat_minor": 2
}
